{
  "nbformat": 4,
  "nbformat_minor": 0,
  "metadata": {
    "colab": {
      "name": "Immutable tuple",
      "provenance": []
    },
    "kernelspec": {
      "name": "python3",
      "display_name": "Python 3"
    },
    "language_info": {
      "name": "python"
    }
  },
  "cells": [
    {
      "cell_type": "code",
      "execution_count": null,
      "metadata": {
        "id": "VCdxnJyashrE"
      },
      "outputs": [],
      "source": [
        "#According to the official Python documentation, immutable is 'an object with a fixed value', \n",
        "#but 'value' is a rather vague term, the correct term for tuples would be 'id'. 'id' is the identity of the location of an object in memory."
      ]
    },
    {
      "cell_type": "markdown",
      "source": [
        "Tuple of list, here after adding element into a tuple of list, each element have same id as before, because list is mutable, there is no change of location of memory after append\n"
      ],
      "metadata": {
        "id": "1xeqsVCVtYz6"
      }
    },
    {
      "cell_type": "code",
      "source": [
        "ntuple = (1, 2, [3,4])\n",
        "for i in range(len(ntuple)):\n",
        " print(id(ntuple[i]))"
      ],
      "metadata": {
        "colab": {
          "base_uri": "https://localhost:8080/"
        },
        "id": "FE0OFa0utBGf",
        "outputId": "cf4283bc-1eef-41e2-a997-fb3bb9368871"
      },
      "execution_count": null,
      "outputs": [
        {
          "output_type": "stream",
          "name": "stdout",
          "text": [
            "94596376377856\n",
            "94596376377888\n",
            "139917997755040\n"
          ]
        }
      ]
    },
    {
      "cell_type": "code",
      "source": [
        "ntuple[2].append(5)\n",
        "print(ntuple)\n",
        "for i in range(len(ntuple)):\n",
        " print(id(ntuple[i]))"
      ],
      "metadata": {
        "colab": {
          "base_uri": "https://localhost:8080/"
        },
        "id": "c45k_D8FtWm2",
        "outputId": "d969bd59-1aed-454e-a74f-6190285deee7"
      },
      "execution_count": null,
      "outputs": [
        {
          "output_type": "stream",
          "name": "stdout",
          "text": [
            "(1, 2, [3, 4, 5])\n",
            "94596376377856\n",
            "94596376377888\n",
            "139917997755040\n"
          ]
        }
      ]
    },
    {
      "cell_type": "markdown",
      "source": [
        "a list of tuple, here it is possible to add element, but loctaion of memory changed because tuples are immuatble. while in tuples id should be same. tuple - ''an object with a fixed value',"
      ],
      "metadata": {
        "id": "ac81BhC5uksV"
      }
    },
    {
      "cell_type": "code",
      "source": [
        "l=[1,2,(8,9)]\n",
        "print(l)\n",
        "for i in l:\n",
        "  print(id(i))"
      ],
      "metadata": {
        "colab": {
          "base_uri": "https://localhost:8080/"
        },
        "id": "V10hx1z9tWp1",
        "outputId": "cf6a2309-021c-4c56-f07a-b12d02d81c66"
      },
      "execution_count": null,
      "outputs": [
        {
          "output_type": "stream",
          "name": "stdout",
          "text": [
            "[1, 2, (8, 9)]\n",
            "94596376377856\n",
            "94596376377888\n",
            "139917997807328\n"
          ]
        }
      ]
    },
    {
      "cell_type": "code",
      "source": [
        "l[2]=l[2]+(2,3)\n",
        "print(l)\n",
        "for i in l:\n",
        "  print(id(i))"
      ],
      "metadata": {
        "colab": {
          "base_uri": "https://localhost:8080/"
        },
        "id": "MUyxQLEOuxwo",
        "outputId": "50400624-2e98-4d3a-d5a2-0ddd6e46ba7c"
      },
      "execution_count": null,
      "outputs": [
        {
          "output_type": "stream",
          "name": "stdout",
          "text": [
            "[1, 2, (8, 9, 2, 3)]\n",
            "94596376377856\n",
            "94596376377888\n",
            "139917961718192\n"
          ]
        }
      ]
    },
    {
      "cell_type": "markdown",
      "source": [
        "after adding element into list, still have same memory location while in case of tuple, it has been changed. "
      ],
      "metadata": {
        "id": "JSU44xfi1Fld"
      }
    },
    {
      "cell_type": "code",
      "source": [
        "l = [1,2,4]\n",
        "print(id(l))"
      ],
      "metadata": {
        "colab": {
          "base_uri": "https://localhost:8080/"
        },
        "id": "BMi3C70eygcx",
        "outputId": "a9a8334b-bed7-4cd0-ba1b-9b5ed0eb2799"
      },
      "execution_count": null,
      "outputs": [
        {
          "output_type": "stream",
          "name": "stdout",
          "text": [
            "139917961349152\n"
          ]
        }
      ]
    },
    {
      "cell_type": "code",
      "source": [
        "l.append(45)\n",
        "print(l)\n",
        "print(id(l))"
      ],
      "metadata": {
        "colab": {
          "base_uri": "https://localhost:8080/"
        },
        "id": "yTeEXO3Rywnd",
        "outputId": "6fe1d625-c1dc-4ebe-cd37-b1aac835bc26"
      },
      "execution_count": null,
      "outputs": [
        {
          "output_type": "stream",
          "name": "stdout",
          "text": [
            "[1, 2, 4, 45]\n",
            "139917961349152\n"
          ]
        }
      ]
    },
    {
      "cell_type": "code",
      "source": [
        "t = (7,8,5,6)\n",
        "print(t)\n",
        "print(id(t))"
      ],
      "metadata": {
        "colab": {
          "base_uri": "https://localhost:8080/"
        },
        "id": "uT5PNjbmyzTk",
        "outputId": "b81ba521-4412-46bb-81d6-dd30f277ac43"
      },
      "execution_count": null,
      "outputs": [
        {
          "output_type": "stream",
          "name": "stdout",
          "text": [
            "(7, 8, 5, 6)\n",
            "139917961821744\n"
          ]
        }
      ]
    },
    {
      "cell_type": "code",
      "source": [
        "t = t +(2,5)\n",
        "print(t)\n",
        "print(id(t))"
      ],
      "metadata": {
        "colab": {
          "base_uri": "https://localhost:8080/"
        },
        "id": "B1x29kYw02Yj",
        "outputId": "6d9c55ef-c8fa-4c73-d771-dbc131e02fdb"
      },
      "execution_count": null,
      "outputs": [
        {
          "output_type": "stream",
          "name": "stdout",
          "text": [
            "(7, 8, 5, 6, 2, 5)\n",
            "139918023275360\n"
          ]
        }
      ]
    }
  ]
}