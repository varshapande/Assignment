{
  "nbformat": 4,
  "nbformat_minor": 0,
  "metadata": {
    "colab": {
      "name": "assignment ",
      "provenance": [],
      "toc_visible": true
    },
    "kernelspec": {
      "name": "python3",
      "display_name": "Python 3"
    },
    "language_info": {
      "name": "python"
    }
  },
  "cells": [
    {
      "cell_type": "markdown",
      "source": [
        "Q.1 Write a Python program to get the Fibonacci series between 0 to 50"
      ],
      "metadata": {
        "id": "NPlS_VqtqhL6"
      }
    },
    {
      "cell_type": "code",
      "source": [
        "n = int(input())\n",
        "a = 0\n",
        "b = 1\n",
        "if (n <0):\n",
        "   print('not posssible')\n",
        "elif(n == 0):\n",
        "  print (0)\n",
        "elif (n == 1):\n",
        "  print(b)\n",
        "else:\n",
        "  for i in range(n):\n",
        "          print(b,end=' ')\n",
        "          c= a+b\n",
        "          a = b\n",
        "          b = c\n",
        "          if (c>= 50):\n",
        "            break\n",
        "          "
      ],
      "metadata": {
        "colab": {
          "base_uri": "https://localhost:8080/"
        },
        "id": "pZw2IS49V1Rt",
        "outputId": "e957cd0e-bdfe-4364-9368-925fe7c25900"
      },
      "execution_count": null,
      "outputs": [
        {
          "output_type": "stream",
          "name": "stdout",
          "text": [
            "56\n",
            "1 1 2 3 5 8 13 21 34 "
          ]
        }
      ]
    },
    {
      "cell_type": "code",
      "source": [
        "x= 0\n",
        "y = 1\n",
        "z = 0\n",
        "while(z<=50):\n",
        "    print(y,end=' ')\n",
        "    z = x+y\n",
        "    x = y\n",
        "    y = z\n",
        "  "
      ],
      "metadata": {
        "colab": {
          "base_uri": "https://localhost:8080/"
        },
        "id": "ph1_8kIkqbNU",
        "outputId": "074373d1-be35-4bea-9ccf-c3d2e26d00ff"
      },
      "execution_count": null,
      "outputs": [
        {
          "output_type": "stream",
          "name": "stdout",
          "text": [
            "1 1 2 3 5 8 13 21 34 "
          ]
        }
      ]
    },
    {
      "cell_type": "markdown",
      "source": [
        " Q.2 Write a Python program that accepts a word from the user and reverse it.\n"
      ],
      "metadata": {
        "id": "rHfertI9mPcw"
      }
    },
    {
      "cell_type": "code",
      "source": [
        "s = input()\n",
        "d = s[::-1]\n",
        "print(d)\n"
      ],
      "metadata": {
        "colab": {
          "base_uri": "https://localhost:8080/"
        },
        "id": "rf6icJn1lOly",
        "outputId": "f7aaac3d-9dff-4f23-9224-774cf5b62b0a"
      },
      "execution_count": null,
      "outputs": [
        {
          "output_type": "stream",
          "name": "stdout",
          "text": [
            "edyoda\n",
            "adoyde\n"
          ]
        }
      ]
    },
    {
      "cell_type": "markdown",
      "source": [
        ""
      ],
      "metadata": {
        "id": "LBOGu9-fqV6p"
      }
    },
    {
      "cell_type": "code",
      "source": [
        "s = input()\n",
        "for i in range(-1,-len(s)-1,-1):\n",
        "  print(s[i],end='')\n",
        "   "
      ],
      "metadata": {
        "colab": {
          "base_uri": "https://localhost:8080/"
        },
        "id": "_YOwKiKfldoB",
        "outputId": "307604bc-a653-4cd9-eaca-52fb5658dfe1"
      },
      "execution_count": null,
      "outputs": [
        {
          "output_type": "stream",
          "name": "stdout",
          "text": [
            "varsha pandey \n",
            " yednap ahsrav"
          ]
        }
      ]
    },
    {
      "cell_type": "markdown",
      "source": [
        " Q.3 Write a Python program to count the number of even and odd numbers from a series of numbers."
      ],
      "metadata": {
        "id": "-nIgJE4rp-a8"
      }
    },
    {
      "cell_type": "code",
      "source": [
        "number = (1, 2, 3, 4, 5, 6, 7, 8, 9)\n",
        "even = 0\n",
        "odd = 0\n",
        "for a in number:\n",
        "   if (a%2==0):\n",
        "    even = even+1\n",
        "   else:\n",
        "     odd = odd+1\n",
        "print('even :',even)\n",
        "print('odd :',odd)"
      ],
      "metadata": {
        "colab": {
          "base_uri": "https://localhost:8080/"
        },
        "id": "02UwPqwCncxo",
        "outputId": "c9f04d1e-8918-4923-9d20-75a06db2d2b0"
      },
      "execution_count": null,
      "outputs": [
        {
          "output_type": "stream",
          "name": "stdout",
          "text": [
            "even : 4\n",
            "odd : 5\n"
          ]
        }
      ]
    },
    {
      "cell_type": "code",
      "source": [
        ""
      ],
      "metadata": {
        "id": "ehwnLrfqoQKM"
      },
      "execution_count": null,
      "outputs": []
    }
  ]
}
