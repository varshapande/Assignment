{
  "nbformat": 4,
  "nbformat_minor": 0,
  "metadata": {
    "colab": {
      "name": "Assignment 3",
      "provenance": [],
      "authorship_tag": "ABX9TyPTRDcrImxPsVNoIDy6of1g",
      "include_colab_link": true
    },
    "kernelspec": {
      "name": "python3",
      "display_name": "Python 3"
    },
    "language_info": {
      "name": "python"
    }
  },
  "cells": [
    {
      "cell_type": "markdown",
      "metadata": {
        "id": "view-in-github",
        "colab_type": "text"
      },
      "source": [
        "<a href=\"https://colab.research.google.com/github/varshapande/Assignment/blob/main/Assignment_3.ipynb\" target=\"_parent\"><img src=\"https://colab.research.google.com/assets/colab-badge.svg\" alt=\"Open In Colab\"/></a>"
      ]
    },
    {
      "cell_type": "markdown",
      "source": [
        "Q1Write a Python function to sum all the numbers in a list.\n",
        "\n"
      ],
      "metadata": {
        "id": "nM9NqZr5JKYt"
      }
    },
    {
      "cell_type": "code",
      "execution_count": 35,
      "metadata": {
        "colab": {
          "base_uri": "https://localhost:8080/"
        },
        "id": "OGsouPSxFEt7",
        "outputId": "1cedb9f6-57ef-45e8-923d-013534d8e4ba"
      },
      "outputs": [
        {
          "output_type": "stream",
          "name": "stdout",
          "text": [
            "3\n",
            "2\n",
            "3\n",
            "4\n",
            "[2, 3, 4]\n"
          ]
        }
      ],
      "source": [
        "n = int(input())\n",
        "l = []\n",
        "for i in range(n):\n",
        "    ele = int(input())\n",
        "    l.append(ele)\n",
        "print(l)"
      ]
    },
    {
      "cell_type": "code",
      "source": [
        "def addition(ls):\n",
        "  sum = 0\n",
        "  for ele in l:\n",
        "     sum += ele\n",
        "  return sum\n",
        "addition(l)  \n"
      ],
      "metadata": {
        "colab": {
          "base_uri": "https://localhost:8080/"
        },
        "id": "VJdXlc85GSXi",
        "outputId": "455a3997-7451-4dc9-b8a9-449af56112c4"
      },
      "execution_count": 36,
      "outputs": [
        {
          "output_type": "execute_result",
          "data": {
            "text/plain": [
              "9"
            ]
          },
          "metadata": {},
          "execution_count": 36
        }
      ]
    },
    {
      "cell_type": "code",
      "source": [
        "# use of sum function\n",
        "total = sum(l)\n",
        "print(total)"
      ],
      "metadata": {
        "colab": {
          "base_uri": "https://localhost:8080/"
        },
        "id": "I3ojw3wPIE9j",
        "outputId": "de1dabce-1565-4319-d96d-0370d2734255"
      },
      "execution_count": 42,
      "outputs": [
        {
          "output_type": "stream",
          "name": "stdout",
          "text": [
            "9\n"
          ]
        }
      ]
    },
    {
      "cell_type": "markdown",
      "source": [
        "Q2 Write a Python program to reverse a string."
      ],
      "metadata": {
        "id": "EmWR5CkmJXw8"
      }
    },
    {
      "cell_type": "code",
      "source": [
        "def rever(s_t):\n",
        "      s_t = s_t[::-1]\n",
        "      return s_t\n",
        "rever('varsh64')"
      ],
      "metadata": {
        "colab": {
          "base_uri": "https://localhost:8080/",
          "height": 35
        },
        "id": "FfrYYKAJJTU0",
        "outputId": "46c848ed-a4b7-4b12-e899-91cef168aa12"
      },
      "execution_count": 43,
      "outputs": [
        {
          "output_type": "execute_result",
          "data": {
            "text/plain": [
              "'46hsrav'"
            ],
            "application/vnd.google.colaboratory.intrinsic+json": {
              "type": "string"
            }
          },
          "metadata": {},
          "execution_count": 43
        }
      ]
    },
    {
      "cell_type": "code",
      "source": [
        "def rever(s_t):\n",
        "  for i in range(-1,-len(s_t)-1,-1):\n",
        "   print( s_t[i],end = '')\n",
        "rever('varsha987')"
      ],
      "metadata": {
        "colab": {
          "base_uri": "https://localhost:8080/"
        },
        "id": "wPZnGqUlLArt",
        "outputId": "3b4621e2-85c6-477e-ddc4-71e3a2e53953"
      },
      "execution_count": 44,
      "outputs": [
        {
          "output_type": "stream",
          "name": "stdout",
          "text": [
            "789ahsrav"
          ]
        }
      ]
    },
    {
      "cell_type": "markdown",
      "source": [
        "Q3 Write a Python function that accepts a string and calculate the number of upper case letters and lower case letters.\n",
        "\n"
      ],
      "metadata": {
        "id": "iGBPhDidM9z6"
      }
    },
    {
      "cell_type": "code",
      "source": [
        "def count_letter(st):\n",
        "   up = 0\n",
        "   lw = 0\n",
        "   for i in st:\n",
        "       if  i >=\"A\" and i <='Z':\n",
        "         up = up+1\n",
        "       if  i >= 'a' and i <= 'z':\n",
        "         lw = lw+1\n",
        "   print(lw)\n",
        "   print(up)"
      ],
      "metadata": {
        "id": "ia3XX9KjNHhu"
      },
      "execution_count": 49,
      "outputs": []
    },
    {
      "cell_type": "code",
      "source": [
        "count_letter('VarsHaPand68ey')"
      ],
      "metadata": {
        "colab": {
          "base_uri": "https://localhost:8080/"
        },
        "id": "IhT0xGAwXExm",
        "outputId": "7c206bdb-0656-4359-dada-f3d5b8e27fbb"
      },
      "execution_count": 51,
      "outputs": [
        {
          "output_type": "stream",
          "name": "stdout",
          "text": [
            "9\n",
            "3\n"
          ]
        }
      ]
    },
    {
      "cell_type": "code",
      "source": [
        ""
      ],
      "metadata": {
        "id": "jhxUWaCwXK9t"
      },
      "execution_count": 41,
      "outputs": []
    }
  ]
}