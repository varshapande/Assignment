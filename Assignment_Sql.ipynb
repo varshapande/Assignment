{
  "nbformat": 4,
  "nbformat_minor": 0,
  "metadata": {
    "colab": {
      "name": "Assignment Sql",
      "provenance": [],
      "authorship_tag": "ABX9TyP8xn9BNzlcMQQvGqKNMqK2",
      "include_colab_link": true
    },
    "kernelspec": {
      "name": "python3",
      "display_name": "Python 3"
    },
    "language_info": {
      "name": "python"
    }
  },
  "cells": [
    {
      "cell_type": "markdown",
      "metadata": {
        "id": "view-in-github",
        "colab_type": "text"
      },
      "source": [
        "<a href=\"https://colab.research.google.com/github/varshapande/Assignment/blob/main/Assignment_Sql.ipynb\" target=\"_parent\"><img src=\"https://colab.research.google.com/assets/colab-badge.svg\" alt=\"Open In Colab\"/></a>"
      ]
    },
    {
      "cell_type": "code",
      "execution_count": null,
      "metadata": {
        "id": "xE86W1AtzPDX"
      },
      "outputs": [],
      "source": [
        "1.Count the number of Salesperson whose name begin with ‘a’/’A’.\n",
        "   select count(*)from SalesPeople where Sname like'%a' or like '%A';\n",
        "   \n",
        "\n",
        "2.Display all the Salesperson whose all orders worth is more than Rs. 2000.\n",
        "   a)select sname from SalesPeople Inner Join Orders on SalesPeople.snum=Orders.snum where Amt>2000;\n",
        "   b)select sname from salespeople s left join orders o on s.snum=o.snum where o.amt>2000;\n",
        "   \n",
        "\n",
        "3.Count the number of Salesperson belonging to Newyork.\n",
        "   select count(*) from SalesPeople where city='Newyork';\n",
        "   \n",
        "\n",
        "4.Display the number of Salespeople belonging to London and belonging to Paris.\n",
        "   select count(*) from SalesPeople where city='London' or city='Paris';\n",
        "   \n",
        "\n",
        "5.Display the number of orders taken by each Salesperson and their date of orders.\n",
        "   a)select sname,Odate from Orders Inner Join SalesPeople on SalesPeople.snum=Orders.snum;\n",
        "   b)select o.odate,s.sname from orders o left join salespeople s on o.snum=s.snum;\n",
        "   "
      ]
    }
  ]
}