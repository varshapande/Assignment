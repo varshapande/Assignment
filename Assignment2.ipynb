{
  "nbformat": 4,
  "nbformat_minor": 0,
  "metadata": {
    "colab": {
      "name": "Assignment2",
      "provenance": [],
      "authorship_tag": "ABX9TyMCMmr/4WWeQ6Wma2QZASAW",
      "include_colab_link": true
    },
    "kernelspec": {
      "name": "python3",
      "display_name": "Python 3"
    },
    "language_info": {
      "name": "python"
    }
  },
  "cells": [
    {
      "cell_type": "markdown",
      "metadata": {
        "id": "view-in-github",
        "colab_type": "text"
      },
      "source": [
        "<a href=\"https://colab.research.google.com/github/varshapande/Assignment/blob/main/Assignment2.ipynb\" target=\"_parent\"><img src=\"https://colab.research.google.com/assets/colab-badge.svg\" alt=\"Open In Colab\"/></a>"
      ]
    },
    {
      "cell_type": "markdown",
      "source": [
        "Write a Python program to get a list, sorted in increasing order by the last element in each tuple from a given list of non-empty tuples\n",
        "\n"
      ],
      "metadata": {
        "id": "fv0L_97Josq5"
      }
    },
    {
      "cell_type": "code",
      "execution_count": null,
      "metadata": {
        "colab": {
          "base_uri": "https://localhost:8080/"
        },
        "id": "7zQSn7aeHSE5",
        "outputId": "15ef902d-eb5a-41ef-f26e-0cd7369bc410"
      },
      "outputs": [
        {
          "output_type": "stream",
          "name": "stdout",
          "text": [
            "4\n",
            "1\n",
            "2\n",
            "4\n",
            "3\n",
            "5\n",
            "6\n",
            "7\n",
            "8\n",
            "[1, 4, 5, 7]\n",
            "[2, 3, 6, 8]\n",
            "[(1, 2), (4, 3), (5, 6), (7, 8)]\n"
          ]
        }
      ],
      "source": [
        "ls1 = []\n",
        "ls2 = []\n",
        "n = int(input())\n",
        "for i in range(n): \n",
        "   element1 = int(input())\n",
        "   element2 = int(input())\n",
        "   ls1.append(element1)\n",
        "   ls2.append(element2)\n",
        "print(ls1)\n",
        "print(ls2)\n",
        "final_ls = list(zip(ls1,ls2))\n",
        "print(final_ls)"
      ]
    },
    {
      "cell_type": "code",
      "source": [
        "# with the help of  function\n",
        "def func(x):\n",
        "   return x[1]\n",
        "final_ls.sort(key = func)\n",
        "final_ls "
      ],
      "metadata": {
        "colab": {
          "base_uri": "https://localhost:8080/"
        },
        "id": "n1G18V3g6vzB",
        "outputId": "9e46cb12-0e74-43ce-f430-bc93d66b06d5"
      },
      "execution_count": null,
      "outputs": [
        {
          "output_type": "execute_result",
          "data": {
            "text/plain": [
              "[(1, 2), (4, 3), (5, 6), (7, 8)]"
            ]
          },
          "metadata": {},
          "execution_count": 3
        }
      ]
    },
    {
      "cell_type": "code",
      "source": [
        "## by using lambda function\n",
        "c = lambda ele : ele[1]\n",
        "final_ls.sort(key =c)\n",
        "final_ls "
      ],
      "metadata": {
        "colab": {
          "base_uri": "https://localhost:8080/"
        },
        "id": "nN1nl_GS7QKn",
        "outputId": "2d1a7c33-8e6e-44b9-a170-070044c36347"
      },
      "execution_count": null,
      "outputs": [
        {
          "output_type": "execute_result",
          "data": {
            "text/plain": [
              "[(1, 2), (4, 3), (5, 6), (7, 8)]"
            ]
          },
          "metadata": {},
          "execution_count": 4
        }
      ]
    },
    {
      "cell_type": "markdown",
      "source": [
        "Q2. Write a Python program to print a dictionary whose keys should be the alphabet from a-z and the value should be corresponding ASCII values\n",
        "\n"
      ],
      "metadata": {
        "id": "M0s4D86HhQQ2"
      }
    },
    {
      "cell_type": "code",
      "source": [
        "#ASCII value of uppercase alphabets – 65 to 90.\n",
        "#ASCII value of lowercase alphabets – 97 to 122."
      ],
      "metadata": {
        "id": "vl4WBAfNhu8j"
      },
      "execution_count": null,
      "outputs": []
    },
    {
      "cell_type": "code",
      "source": [
        "l = []\n",
        "L = []\n",
        "for i in range(65,91):\n",
        "    l.append(chr(i))\n",
        "print(l)\n",
        "for i in range(97,123):\n",
        "    L.append(chr(i))\n",
        "print(L)\n",
        "\n"
      ],
      "metadata": {
        "colab": {
          "base_uri": "https://localhost:8080/"
        },
        "id": "aKngfPs9fSg-",
        "outputId": "a1f3d693-b042-48dc-dffd-e6e4d224a677"
      },
      "execution_count": null,
      "outputs": [
        {
          "output_type": "stream",
          "name": "stdout",
          "text": [
            "['A', 'B', 'C', 'D', 'E', 'F', 'G', 'H', 'I', 'J', 'K', 'L', 'M', 'N', 'O', 'P', 'Q', 'R', 'S', 'T', 'U', 'V', 'W', 'X', 'Y', 'Z']\n",
            "['a', 'b', 'c', 'd', 'e', 'f', 'g', 'h', 'i', 'j', 'k', 'l', 'm', 'n', 'o', 'p', 'q', 'r', 's', 't', 'u', 'v', 'w', 'x', 'y', 'z']\n"
          ]
        }
      ]
    },
    {
      "cell_type": "code",
      "source": [
        "a = []\n",
        "b = []\n",
        "for i in l:\n",
        "  a.append(ord(i))\n",
        "print(a)\n",
        "for i in L:\n",
        "  b.append(ord(i))\n",
        "print(b)"
      ],
      "metadata": {
        "colab": {
          "base_uri": "https://localhost:8080/"
        },
        "id": "OXGCtB69fTAr",
        "outputId": "f5381c48-da46-4de4-f528-56a2f4ffac12"
      },
      "execution_count": null,
      "outputs": [
        {
          "output_type": "stream",
          "name": "stdout",
          "text": [
            "[65, 66, 67, 68, 69, 70, 71, 72, 73, 74, 75, 76, 77, 78, 79, 80, 81, 82, 83, 84, 85, 86, 87, 88, 89, 90]\n",
            "[97, 98, 99, 100, 101, 102, 103, 104, 105, 106, 107, 108, 109, 110, 111, 112, 113, 114, 115, 116, 117, 118, 119, 120, 121, 122]\n"
          ]
        }
      ]
    },
    {
      "cell_type": "code",
      "source": [
        "final_ls1 = dict(zip(l,a))\n",
        "final_ls2 = dict(zip(L,b))\n",
        "print(final_ls1)\n",
        "print(final_ls2)"
      ],
      "metadata": {
        "colab": {
          "base_uri": "https://localhost:8080/"
        },
        "id": "0ZyTltCPhCAU",
        "outputId": "ae86d9ef-7404-4f63-8bdf-8546ba091aee"
      },
      "execution_count": null,
      "outputs": [
        {
          "output_type": "stream",
          "name": "stdout",
          "text": [
            "{'A': 65, 'B': 66, 'C': 67, 'D': 68, 'E': 69, 'F': 70, 'G': 71, 'H': 72, 'I': 73, 'J': 74, 'K': 75, 'L': 76, 'M': 77, 'N': 78, 'O': 79, 'P': 80, 'Q': 81, 'R': 82, 'S': 83, 'T': 84, 'U': 85, 'V': 86, 'W': 87, 'X': 88, 'Y': 89, 'Z': 90}\n",
            "{'a': 97, 'b': 98, 'c': 99, 'd': 100, 'e': 101, 'f': 102, 'g': 103, 'h': 104, 'i': 105, 'j': 106, 'k': 107, 'l': 108, 'm': 109, 'n': 110, 'o': 111, 'p': 112, 'q': 113, 'r': 114, 's': 115, 't': 116, 'u': 117, 'v': 118, 'w': 119, 'x': 120, 'y': 121, 'z': 122}\n"
          ]
        }
      ]
    },
    {
      "cell_type": "code",
      "source": [
        "# for random alphabets:"
      ],
      "metadata": {
        "id": "WK_X0jCeh-Vc"
      },
      "execution_count": null,
      "outputs": []
    },
    {
      "cell_type": "code",
      "source": [
        "import random\n",
        "#n = 65 to 90 or 97 to 122\n",
        "n1 = []\n",
        "num = int(input())\n",
        "for i in range(num):\n",
        " n1.append(random.randint(65, 91))\n",
        "print(n1)\n",
        "n2 = []\n",
        "num = int(input())\n",
        "for i in range(num):\n",
        " n2.append(random.randint(97, 123))\n",
        "print(n2)\n"
      ],
      "metadata": {
        "colab": {
          "base_uri": "https://localhost:8080/"
        },
        "id": "KV1KRSXPO14L",
        "outputId": "1857ab83-2ce9-4124-8966-dc12c9930ff5"
      },
      "execution_count": null,
      "outputs": [
        {
          "output_type": "stream",
          "name": "stdout",
          "text": [
            "50\n",
            "[82, 91, 65, 91, 90, 80, 75, 81, 67, 76, 71, 71, 90, 84, 79, 73, 71, 81, 75, 83, 91, 80, 75, 91, 73, 78, 89, 66, 65, 82, 78, 74, 71, 84, 82, 65, 78, 73, 71, 85, 69, 77, 80, 77, 75, 83, 87, 80, 86, 80]\n",
            "60\n",
            "[111, 117, 120, 112, 118, 98, 115, 121, 98, 97, 117, 99, 122, 105, 113, 98, 119, 109, 123, 101, 114, 109, 116, 97, 119, 120, 113, 120, 117, 120, 112, 114, 122, 111, 112, 117, 106, 111, 98, 112, 114, 102, 122, 115, 111, 110, 103, 120, 103, 99, 105, 118, 111, 110, 98, 100, 115, 121, 118, 116]\n"
          ]
        }
      ]
    },
    {
      "cell_type": "code",
      "source": [
        "l = []\n",
        "L = []\n",
        "for i in n1:\n",
        "    l.append(chr(i))\n",
        "print(l)\n",
        "for i in n2:\n",
        "    L.append(chr(i))\n",
        "print(L)"
      ],
      "metadata": {
        "colab": {
          "base_uri": "https://localhost:8080/"
        },
        "id": "GM7V29TseCIy",
        "outputId": "b728e188-cae1-47a5-e718-be692a4a5743"
      },
      "execution_count": null,
      "outputs": [
        {
          "output_type": "stream",
          "name": "stdout",
          "text": [
            "['R', '[', 'A', '[', 'Z', 'P', 'K', 'Q', 'C', 'L', 'G', 'G', 'Z', 'T', 'O', 'I', 'G', 'Q', 'K', 'S', '[', 'P', 'K', '[', 'I', 'N', 'Y', 'B', 'A', 'R', 'N', 'J', 'G', 'T', 'R', 'A', 'N', 'I', 'G', 'U', 'E', 'M', 'P', 'M', 'K', 'S', 'W', 'P', 'V', 'P']\n",
            "['o', 'u', 'x', 'p', 'v', 'b', 's', 'y', 'b', 'a', 'u', 'c', 'z', 'i', 'q', 'b', 'w', 'm', '{', 'e', 'r', 'm', 't', 'a', 'w', 'x', 'q', 'x', 'u', 'x', 'p', 'r', 'z', 'o', 'p', 'u', 'j', 'o', 'b', 'p', 'r', 'f', 'z', 's', 'o', 'n', 'g', 'x', 'g', 'c', 'i', 'v', 'o', 'n', 'b', 'd', 's', 'y', 'v', 't']\n"
          ]
        }
      ]
    },
    {
      "cell_type": "code",
      "source": [
        "a = []\n",
        "b = []\n",
        "for i in l:\n",
        "  a.append(ord(i))\n",
        "print(a)\n",
        "for i in L:\n",
        "  b.append(ord(i))\n",
        "print(b)"
      ],
      "metadata": {
        "colab": {
          "base_uri": "https://localhost:8080/"
        },
        "id": "PVopOSoESDVR",
        "outputId": "6cd50898-2c2d-4984-baa2-db0f693d3b0d"
      },
      "execution_count": null,
      "outputs": [
        {
          "output_type": "stream",
          "name": "stdout",
          "text": [
            "[82, 91, 65, 91, 90, 80, 75, 81, 67, 76, 71, 71, 90, 84, 79, 73, 71, 81, 75, 83, 91, 80, 75, 91, 73, 78, 89, 66, 65, 82, 78, 74, 71, 84, 82, 65, 78, 73, 71, 85, 69, 77, 80, 77, 75, 83, 87, 80, 86, 80]\n",
            "[111, 117, 120, 112, 118, 98, 115, 121, 98, 97, 117, 99, 122, 105, 113, 98, 119, 109, 123, 101, 114, 109, 116, 97, 119, 120, 113, 120, 117, 120, 112, 114, 122, 111, 112, 117, 106, 111, 98, 112, 114, 102, 122, 115, 111, 110, 103, 120, 103, 99, 105, 118, 111, 110, 98, 100, 115, 121, 118, 116]\n"
          ]
        }
      ]
    },
    {
      "cell_type": "code",
      "source": [
        "final_ls1 = dict(zip(l,a))\n",
        "final_ls2 = dict(zip(L,b))\n",
        "print(final_ls1)\n",
        "print(final_ls2)"
      ],
      "metadata": {
        "colab": {
          "base_uri": "https://localhost:8080/"
        },
        "id": "J_YiM9vBSSxz",
        "outputId": "f20aa7b5-cd48-4051-e63b-b7e076ad00a4"
      },
      "execution_count": null,
      "outputs": [
        {
          "output_type": "stream",
          "name": "stdout",
          "text": [
            "{'R': 82, '[': 91, 'A': 65, 'Z': 90, 'P': 80, 'K': 75, 'Q': 81, 'C': 67, 'L': 76, 'G': 71, 'T': 84, 'O': 79, 'I': 73, 'S': 83, 'N': 78, 'Y': 89, 'B': 66, 'J': 74, 'U': 85, 'E': 69, 'M': 77, 'W': 87, 'V': 86}\n",
            "{'o': 111, 'u': 117, 'x': 120, 'p': 112, 'v': 118, 'b': 98, 's': 115, 'y': 121, 'a': 97, 'c': 99, 'z': 122, 'i': 105, 'q': 113, 'w': 119, 'm': 109, '{': 123, 'e': 101, 'r': 114, 't': 116, 'j': 106, 'f': 102, 'n': 110, 'g': 103, 'd': 100}\n"
          ]
        }
      ]
    }
  ]
}