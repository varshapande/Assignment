{
  "nbformat": 4,
  "nbformat_minor": 0,
  "metadata": {
    "colab": {
      "name": "Assignment_4",
      "provenance": [],
      "authorship_tag": "ABX9TyM4PxEq/5yvwgKTqbl0tQQh",
      "include_colab_link": true
    },
    "kernelspec": {
      "name": "python3",
      "display_name": "Python 3"
    },
    "language_info": {
      "name": "python"
    }
  },
  "cells": [
    {
      "cell_type": "markdown",
      "metadata": {
        "id": "view-in-github",
        "colab_type": "text"
      },
      "source": [
        "<a href=\"https://colab.research.google.com/github/varshapande/Assignment/blob/main/Assignment_4.ipynb\" target=\"_parent\"><img src=\"https://colab.research.google.com/assets/colab-badge.svg\" alt=\"Open In Colab\"/></a>"
      ]
    },
    {
      "cell_type": "markdown",
      "source": [
        "Q1 Write a Python program to create a lambda function that adds 25 to a given number passed in as an argument.\n",
        "\n"
      ],
      "metadata": {
        "id": "WCwSb1wIOk9o"
      }
    },
    {
      "cell_type": "code",
      "execution_count": 1,
      "metadata": {
        "id": "zdvffjuHMLrO",
        "colab": {
          "base_uri": "https://localhost:8080/"
        },
        "outputId": "7df5442c-d900-489a-c1fe-ca764570d95c"
      },
      "outputs": [
        {
          "name": "stdout",
          "output_type": "stream",
          "text": [
            "3\n"
          ]
        },
        {
          "output_type": "execute_result",
          "data": {
            "text/plain": [
              "28"
            ]
          },
          "metadata": {},
          "execution_count": 1
        }
      ],
      "source": [
        "## by using lambda function\n",
        "n = int(input())\n",
        "y = lambda x :x +25\n",
        "y(n)\n"
      ]
    },
    {
      "cell_type": "code",
      "source": [
        "## by defining function only\n",
        "def add_val(x):\n",
        " y = x+25\n",
        " return y\n",
        "add_val (10)\n"
      ],
      "metadata": {
        "id": "872VokfYOLAI"
      },
      "execution_count": null,
      "outputs": []
    },
    {
      "cell_type": "markdown",
      "source": [
        "**Q2** Write a Python program to triple all numbers of a given list of integers. Use Python map.\n",
        "\n"
      ],
      "metadata": {
        "id": "WLj3xywfPdqt"
      }
    },
    {
      "cell_type": "code",
      "source": [
        "ls = []\n",
        "n = int(input())\n",
        "for i in range(n):\n",
        "     ele = int(input())\n",
        "     ls.append(ele)\n",
        "print(ls)\n",
        "y = lambda x: 3*x\n",
        "triple = list(map(y,ls))\n",
        "triple"
      ],
      "metadata": {
        "colab": {
          "base_uri": "https://localhost:8080/"
        },
        "id": "2CYkPLdGPfxc",
        "outputId": "8b6c328d-a327-4d5c-814d-cc39e5eb8042"
      },
      "execution_count": 3,
      "outputs": [
        {
          "output_type": "stream",
          "name": "stdout",
          "text": [
            "3\n",
            "5\n",
            "7\n",
            "4\n",
            "[5, 7, 4]\n"
          ]
        },
        {
          "output_type": "execute_result",
          "data": {
            "text/plain": [
              "[15, 21, 12]"
            ]
          },
          "metadata": {},
          "execution_count": 3
        }
      ]
    },
    {
      "cell_type": "code",
      "source": [
        "def triple_fun(x):\n",
        "   x = 3*x\n",
        "   return x\n",
        "triple = list(map(triple_fun,ls))\n",
        "triple"
      ],
      "metadata": {
        "colab": {
          "base_uri": "https://localhost:8080/"
        },
        "id": "Gt42t_5_Qw_X",
        "outputId": "b7d37644-54a1-4f27-922b-3532db17fb71"
      },
      "execution_count": 4,
      "outputs": [
        {
          "output_type": "execute_result",
          "data": {
            "text/plain": [
              "[15, 21, 12]"
            ]
          },
          "metadata": {},
          "execution_count": 4
        }
      ]
    },
    {
      "cell_type": "markdown",
      "source": [
        "Q3 Write a Python program to square the elements of a list using map() function.\n"
      ],
      "metadata": {
        "id": "BSbDIHu4RWo6"
      }
    },
    {
      "cell_type": "code",
      "source": [
        "ls = []\n",
        "n = int(input())\n",
        "for i in range(n):\n",
        "     ele = int(input())\n",
        "     ls.append(ele)\n",
        "print(ls)\n",
        "sq = lambda x: x*x\n",
        "sQ = list(map(sq,ls))\n",
        "print(sQ)"
      ],
      "metadata": {
        "colab": {
          "base_uri": "https://localhost:8080/"
        },
        "id": "F-Q4_w9JRhYu",
        "outputId": "fbbd158d-200e-420a-f3c1-bc74b8682883"
      },
      "execution_count": 6,
      "outputs": [
        {
          "output_type": "stream",
          "name": "stdout",
          "text": [
            "3\n",
            "2\n",
            "5\n",
            "6\n",
            "[2, 5, 6]\n",
            "[4, 25, 36]\n"
          ]
        }
      ]
    },
    {
      "cell_type": "code",
      "source": [
        "\n",
        "def sq_fun(x):\n",
        " x = x**2\n",
        " return x\n",
        "sq_fun(4)\n",
        "sQ = list(map(sq_fun,ls))\n",
        "print(sQ)"
      ],
      "metadata": {
        "colab": {
          "base_uri": "https://localhost:8080/"
        },
        "id": "lcjq1Z49SAfN",
        "outputId": "4ed8f016-0194-48bf-b4bc-1897f1f317d7"
      },
      "execution_count": 14,
      "outputs": [
        {
          "output_type": "stream",
          "name": "stdout",
          "text": [
            "[4, 25, 36]\n"
          ]
        }
      ]
    },
    {
      "cell_type": "code",
      "source": [
        ""
      ],
      "metadata": {
        "id": "xlSeWwAGS5Yp"
      },
      "execution_count": 8,
      "outputs": []
    }
  ]
}