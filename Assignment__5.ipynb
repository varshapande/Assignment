{
  "cells": [
    {
      "cell_type": "markdown",
      "metadata": {
        "id": "view-in-github",
        "colab_type": "text"
      },
      "source": [
        "<a href=\"https://colab.research.google.com/github/varshapande/Assignment/blob/main/Assignment__5.ipynb\" target=\"_parent\"><img src=\"https://colab.research.google.com/assets/colab-badge.svg\" alt=\"Open In Colab\"/></a>"
      ]
    },
    {
      "cell_type": "markdown",
      "source": [
        "Q1 Write a Python class to implement pow(x, n)"
      ],
      "metadata": {
        "id": "_R_XQ2ksIOec"
      }
    },
    {
      "cell_type": "code",
      "execution_count": 1,
      "metadata": {
        "id": "s-peMIvsB39H"
      },
      "outputs": [],
      "source": [
        "class Power :\n",
        "    def  __init__(self,value,power):\n",
        "          self.value = value\n",
        "          self.power = power\n",
        "    def ps(self):\n",
        "       return self.value**self.power"
      ]
    },
    {
      "cell_type": "code",
      "source": [
        "\n",
        "pd = Power(10,2)\n",
        "pd.ps()\n"
      ],
      "metadata": {
        "colab": {
          "base_uri": "https://localhost:8080/"
        },
        "id": "R100HF_smo0B",
        "outputId": "5a7c0c89-eb16-46d5-92d8-238848888cf3"
      },
      "execution_count": 2,
      "outputs": [
        {
          "output_type": "execute_result",
          "data": {
            "text/plain": [
              "100"
            ]
          },
          "metadata": {},
          "execution_count": 2
        }
      ]
    },
    {
      "cell_type": "code",
      "source": [
        "class Power :\n",
        "    def  __init__(self,value,power):\n",
        "          self.value = value\n",
        "          self.power = power\n",
        "    def ps(self):\n",
        "       return pow(self.value,self.power)"
      ],
      "metadata": {
        "id": "YNy16dqoEMuM"
      },
      "execution_count": 3,
      "outputs": []
    },
    {
      "cell_type": "code",
      "source": [
        "pd = Power(10,2)\n",
        "pd.ps()\n"
      ],
      "metadata": {
        "colab": {
          "base_uri": "https://localhost:8080/"
        },
        "id": "ucTXgH-fzLgK",
        "outputId": "1274bb32-7baf-4c45-edff-0f9091aae54f"
      },
      "execution_count": 4,
      "outputs": [
        {
          "output_type": "execute_result",
          "data": {
            "text/plain": [
              "100"
            ]
          },
          "metadata": {},
          "execution_count": 4
        }
      ]
    }
  ],
  "metadata": {
    "colab": {
      "name": "Assignment _5",
      "provenance": [],
      "authorship_tag": "ABX9TyM3pXK2GvFLm70Mz0CYM3+v",
      "include_colab_link": true
    },
    "kernelspec": {
      "display_name": "Python 3",
      "name": "python3"
    },
    "language_info": {
      "name": "python"
    }
  },
  "nbformat": 4,
  "nbformat_minor": 0
}