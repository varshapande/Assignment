{
  "cells": [
    {
      "cell_type": "markdown",
      "metadata": {
        "id": "view-in-github",
        "colab_type": "text"
      },
      "source": [
        "<a href=\"https://colab.research.google.com/github/varshapande/Assignment/blob/main/Assignment__5.ipynb\" target=\"_parent\"><img src=\"https://colab.research.google.com/assets/colab-badge.svg\" alt=\"Open In Colab\"/></a>"
      ]
    },
    {
      "cell_type": "code",
      "execution_count": 2,
      "metadata": {
        "id": "s-peMIvsB39H"
      },
      "outputs": [],
      "source": [
        "class Powwer :\n",
        "    def __init__(self,value,power):\n",
        "          self.value = value\n",
        "          self.power = power\n",
        "    def powervalue(self):\n",
        "     return  self.value**self.power\n",
        "    "
      ]
    },
    {
      "cell_type": "code",
      "source": [
        "pd = Powwer(2,-1)\n",
        "pd.powervalue()\n"
      ],
      "metadata": {
        "colab": {
          "base_uri": "https://localhost:8080/"
        },
        "id": "R100HF_smo0B",
        "outputId": "b62b786f-a7db-4e15-fa48-62358de67095"
      },
      "execution_count": 5,
      "outputs": [
        {
          "output_type": "execute_result",
          "data": {
            "text/plain": [
              "0.5"
            ]
          },
          "metadata": {},
          "execution_count": 5
        }
      ]
    }
  ],
  "metadata": {
    "colab": {
      "name": "Assignment _5",
      "provenance": [],
      "authorship_tag": "ABX9TyObiimh3XPAkcx6Yip5Aba/",
      "include_colab_link": true
    },
    "kernelspec": {
      "display_name": "Python 3",
      "name": "python3"
    },
    "language_info": {
      "name": "python"
    }
  },
  "nbformat": 4,
  "nbformat_minor": 0
}