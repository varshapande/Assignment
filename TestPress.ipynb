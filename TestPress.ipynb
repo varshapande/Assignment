{
  "cells": [
    {
      "cell_type": "markdown",
      "metadata": {
        "id": "view-in-github",
        "colab_type": "text"
      },
      "source": [
        "<a href=\"https://colab.research.google.com/github/varshapande/Assignment/blob/main/TestPress.ipynb\" target=\"_parent\"><img src=\"https://colab.research.google.com/assets/colab-badge.svg\" alt=\"Open In Colab\"/></a>"
      ]
    },
    {
      "cell_type": "markdown",
      "metadata": {
        "id": "uB3pavHOnL1v"
      },
      "source": [
        "Q1 Write a program to print the reverse of the given string."
      ]
    },
    {
      "cell_type": "code",
      "execution_count": null,
      "metadata": {
        "id": "9EN1ai0Zomxu"
      },
      "outputs": [],
      "source": [
        "import re\n"
      ]
    },
    {
      "cell_type": "code",
      "execution_count": 40,
      "metadata": {
        "colab": {
          "base_uri": "https://localhost:8080/"
        },
        "id": "ln9gc6NXF9X-",
        "outputId": "3574c83f-5a58-4e12-d839-4320efca3c3e"
      },
      "outputs": [
        {
          "output_type": "stream",
          "name": "stdout",
          "text": [
            "enter string :varsha\n",
            "ahsrav\n",
            "ahsrav\n"
          ]
        }
      ],
      "source": [
        "def reverse(string):\n",
        "    if bool(re.match('^[a-z]+$',string))== True:\n",
        "      string = string[::-1]\n",
        "      return string\n",
        "s =  input(\"enter string :\")\n",
        "if len(s) >=0 and len(s)<= 100:\n",
        "   print(reverse(s))\n",
        "else:\n",
        "   print(\"out of range\")\n",
        "print (reverse(s))"
      ]
    },
    {
      "cell_type": "code",
      "execution_count": null,
      "metadata": {
        "id": "PRhOifg_oloY"
      },
      "outputs": [],
      "source": [
        ""
      ]
    },
    {
      "cell_type": "code",
      "execution_count": null,
      "metadata": {
        "id": "7881YEpcHiSD"
      },
      "outputs": [],
      "source": [
        "def reverse(string):\n",
        "    string = \"\".join(reversed(string))\n",
        "    return string\n",
        " \n",
        "s =  input(\"enter string\").lower()\n",
        "if len(s) >=0 and len(s)<= 100:\n",
        "   print(reverse(s))\n",
        "else:\n",
        "   print(\"out of range\")\n",
        "\n"
      ]
    },
    {
      "cell_type": "markdown",
      "metadata": {
        "id": "oSy2YzqUUW55"
      },
      "source": [
        "Q2. A prime number is a natural number greater than 1 that has no positive divisors other than 1 and itself. The first few prime numbers are {2, 3, 5, 7, 11, ….}."
      ]
    },
    {
      "cell_type": "code",
      "execution_count": null,
      "metadata": {
        "id": "5I-46TP0nDwm"
      },
      "outputs": [],
      "source": [
        "num = int(input(\"enter number: \"))\n",
        "if num > 1:\n",
        "  for i in range(2, num):\n",
        "        if (num % i) == 0:\n",
        "            print(num, \"is not a prime number\")\n",
        "            break\n",
        "  else:\n",
        "    print(num, \"is a prime number\")\n",
        "  \n",
        "else:\n",
        "    print(num, \"is not a prime number\")"
      ]
    },
    {
      "cell_type": "markdown",
      "metadata": {
        "id": "gRPiyIb1Zg7j"
      },
      "source": [
        "Q3. Given an array of numbers, arrange them in a way that it forms the largest value."
      ]
    },
    {
      "cell_type": "code",
      "execution_count": null,
      "metadata": {
        "id": "4-iovFboZfc9"
      },
      "outputs": [],
      "source": [
        "from itertools import permutations\n",
        "def largest(l):\n",
        "    lst = []\n",
        "    for i in permutations(l, len(l)):\n",
        "        lst.append(\"\".join(map(str,i)))\n",
        "    return max(lst)\n",
        " \n",
        "print(largest([54, 546, 548, 60]))"
      ]
    },
    {
      "cell_type": "markdown",
      "metadata": {
        "id": "V31fRJkKWkHh"
      },
      "source": [
        "Q4. Given a number N, print reverse of number N."
      ]
    },
    {
      "cell_type": "code",
      "execution_count": null,
      "metadata": {
        "colab": {
          "base_uri": "https://localhost:8080/"
        },
        "id": "_zBxDW8gWilO",
        "outputId": "9324ba61-0018-4517-f4a7-8ff04965f403"
      },
      "outputs": [
        {
          "name": "stdout",
          "output_type": "stream",
          "text": [
            "enter number: 3456\n",
            "6543\n"
          ]
        }
      ],
      "source": [
        "n = int(input(\"enter number: \"))\n",
        "rev = 0\n",
        " \n",
        "while(n > 0):\n",
        "    a = n % 10\n",
        "    rev = rev * 10 + a\n",
        "    n = n // 10\n",
        " \n",
        "print(rev)"
      ]
    },
    {
      "cell_type": "markdown",
      "metadata": {
        "id": "ando5KHNXfZE"
      },
      "source": [
        "Q5. Given an array of numbers, find the maximum and minimum element in the array."
      ]
    },
    {
      "cell_type": "code",
      "execution_count": null,
      "metadata": {
        "colab": {
          "base_uri": "https://localhost:8080/"
        },
        "id": "jUAzuDWcWixH",
        "outputId": "6b087c95-28ed-45da-b2bf-8f84e860c8a5"
      },
      "outputs": [
        {
          "name": "stdout",
          "output_type": "stream",
          "text": [
            "548 54\n"
          ]
        }
      ],
      "source": [
        "import numpy as np\n",
        "arr = [54, 546, 548, 60]\n",
        "max_ = np.max(arr)\n",
        "min_ = np.min(arr)\n",
        "print(max_,min_)\n"
      ]
    },
    {
      "cell_type": "code",
      "execution_count": null,
      "metadata": {
        "id": "JvxyHs5xGfph"
      },
      "outputs": [],
      "source": [
        ""
      ]
    }
  ],
  "metadata": {
    "colab": {
      "name": "TestPress.ipynb",
      "provenance": [],
      "authorship_tag": "ABX9TyNq7r3GTgVSXS98cBniq3En",
      "include_colab_link": true
    },
    "kernelspec": {
      "display_name": "Python 3",
      "name": "python3"
    },
    "language_info": {
      "name": "python"
    }
  },
  "nbformat": 4,
  "nbformat_minor": 0
}